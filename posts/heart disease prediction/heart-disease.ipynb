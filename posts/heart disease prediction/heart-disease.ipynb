{
  "cells": [
    {
      "cell_type": "raw",
      "metadata": {},
      "source": [
        "---\n",
        "title: \"Heart Disease Prediction\"\n",
        "author: \"Huang Han Wang\"\n",
        "date: \"2023-12-20\"\n",
        "categories: [python, machine learning, analysis]\n",
        "image: \"heart.jpeg\"\n",
        "---"
      ],
      "id": "e5ffc600"
    },
    {
      "cell_type": "markdown",
      "metadata": {},
      "source": [
        "Using machine learning methods---KNN, Random Forest, and Logistic Regression---to predict heart disease diagnosis with patient data.\n"
      ],
      "id": "94012aab"
    },
    {
      "cell_type": "code",
      "metadata": {},
      "source": [
        "import pandas as pd\n",
        "import numpy as np\n",
        "import seaborn as sns\n",
        "import matplotlib.pyplot as plt\n",
        "import scipy.stats as stats\n",
        "import palettable\n",
        "import seaborn as sns\n",
        "from sklearn.ensemble import RandomForestRegressor\n",
        "from sklearn.impute import SimpleImputer\n",
        "from sklearn.model_selection import cross_val_score"
      ],
      "id": "7f6aab0c",
      "execution_count": null,
      "outputs": []
    },
    {
      "cell_type": "markdown",
      "metadata": {},
      "source": [
        "## Data\n",
        "\n",
        "-   [Heart Disease - UCI Machine Learning Repository](https://archive.ics.uci.edu/dataset/45/heart+disease)\n"
      ],
      "id": "36f9bf28"
    }
  ],
  "metadata": {
    "kernelspec": {
      "display_name": "Python 3",
      "language": "python",
      "name": "python3"
    }
  },
  "nbformat": 4,
  "nbformat_minor": 5
}